{
  "nbformat": 4,
  "nbformat_minor": 0,
  "metadata": {
    "colab": {
      "name": "AutoEncoder.ipynb",
      "provenance": [],
      "collapsed_sections": []
    },
    "kernelspec": {
      "name": "python3",
      "display_name": "Python 3"
    },
    "language_info": {
      "name": "python"
    },
    "accelerator": "GPU",
    "gpuClass": "standard",
    "widgets": {
      "application/vnd.jupyter.widget-state+json": {
        "2fb20f418e7a41e89c382c86c8d9e173": {
          "model_module": "@jupyter-widgets/controls",
          "model_name": "HBoxModel",
          "model_module_version": "1.5.0",
          "state": {
            "_dom_classes": [],
            "_model_module": "@jupyter-widgets/controls",
            "_model_module_version": "1.5.0",
            "_model_name": "HBoxModel",
            "_view_count": null,
            "_view_module": "@jupyter-widgets/controls",
            "_view_module_version": "1.5.0",
            "_view_name": "HBoxView",
            "box_style": "",
            "children": [
              "IPY_MODEL_43ef8d77a49a4e5aaa1fb98929c9dada",
              "IPY_MODEL_53186239922d4eb187978d3f7de3e86b",
              "IPY_MODEL_eff99e7572fb44adae08777a6eac2aba"
            ],
            "layout": "IPY_MODEL_4040144370ea4fed8e2b49304c08fbe2"
          }
        },
        "43ef8d77a49a4e5aaa1fb98929c9dada": {
          "model_module": "@jupyter-widgets/controls",
          "model_name": "HTMLModel",
          "model_module_version": "1.5.0",
          "state": {
            "_dom_classes": [],
            "_model_module": "@jupyter-widgets/controls",
            "_model_module_version": "1.5.0",
            "_model_name": "HTMLModel",
            "_view_count": null,
            "_view_module": "@jupyter-widgets/controls",
            "_view_module_version": "1.5.0",
            "_view_name": "HTMLView",
            "description": "",
            "description_tooltip": null,
            "layout": "IPY_MODEL_eab0652c817842fbab281a9308a520d4",
            "placeholder": "​",
            "style": "IPY_MODEL_bc3ec66f36844ae5af118d6aae5870ec",
            "value": ""
          }
        },
        "53186239922d4eb187978d3f7de3e86b": {
          "model_module": "@jupyter-widgets/controls",
          "model_name": "FloatProgressModel",
          "model_module_version": "1.5.0",
          "state": {
            "_dom_classes": [],
            "_model_module": "@jupyter-widgets/controls",
            "_model_module_version": "1.5.0",
            "_model_name": "FloatProgressModel",
            "_view_count": null,
            "_view_module": "@jupyter-widgets/controls",
            "_view_module_version": "1.5.0",
            "_view_name": "ProgressView",
            "bar_style": "success",
            "description": "",
            "description_tooltip": null,
            "layout": "IPY_MODEL_1ec47f7a55af4651a8166c61f7ce05c6",
            "max": 9912422,
            "min": 0,
            "orientation": "horizontal",
            "style": "IPY_MODEL_f1a2bf0aa58f4eb08ff2eaf698615743",
            "value": 9912422
          }
        },
        "eff99e7572fb44adae08777a6eac2aba": {
          "model_module": "@jupyter-widgets/controls",
          "model_name": "HTMLModel",
          "model_module_version": "1.5.0",
          "state": {
            "_dom_classes": [],
            "_model_module": "@jupyter-widgets/controls",
            "_model_module_version": "1.5.0",
            "_model_name": "HTMLModel",
            "_view_count": null,
            "_view_module": "@jupyter-widgets/controls",
            "_view_module_version": "1.5.0",
            "_view_name": "HTMLView",
            "description": "",
            "description_tooltip": null,
            "layout": "IPY_MODEL_0cb0d28b02524c4dbf1c25e39f8e40cd",
            "placeholder": "​",
            "style": "IPY_MODEL_aa18f57a114a4ae2bbe3dbf009ef1a6e",
            "value": " 9913344/? [00:00&lt;00:00, 63427488.71it/s]"
          }
        },
        "4040144370ea4fed8e2b49304c08fbe2": {
          "model_module": "@jupyter-widgets/base",
          "model_name": "LayoutModel",
          "model_module_version": "1.2.0",
          "state": {
            "_model_module": "@jupyter-widgets/base",
            "_model_module_version": "1.2.0",
            "_model_name": "LayoutModel",
            "_view_count": null,
            "_view_module": "@jupyter-widgets/base",
            "_view_module_version": "1.2.0",
            "_view_name": "LayoutView",
            "align_content": null,
            "align_items": null,
            "align_self": null,
            "border": null,
            "bottom": null,
            "display": null,
            "flex": null,
            "flex_flow": null,
            "grid_area": null,
            "grid_auto_columns": null,
            "grid_auto_flow": null,
            "grid_auto_rows": null,
            "grid_column": null,
            "grid_gap": null,
            "grid_row": null,
            "grid_template_areas": null,
            "grid_template_columns": null,
            "grid_template_rows": null,
            "height": null,
            "justify_content": null,
            "justify_items": null,
            "left": null,
            "margin": null,
            "max_height": null,
            "max_width": null,
            "min_height": null,
            "min_width": null,
            "object_fit": null,
            "object_position": null,
            "order": null,
            "overflow": null,
            "overflow_x": null,
            "overflow_y": null,
            "padding": null,
            "right": null,
            "top": null,
            "visibility": null,
            "width": null
          }
        },
        "eab0652c817842fbab281a9308a520d4": {
          "model_module": "@jupyter-widgets/base",
          "model_name": "LayoutModel",
          "model_module_version": "1.2.0",
          "state": {
            "_model_module": "@jupyter-widgets/base",
            "_model_module_version": "1.2.0",
            "_model_name": "LayoutModel",
            "_view_count": null,
            "_view_module": "@jupyter-widgets/base",
            "_view_module_version": "1.2.0",
            "_view_name": "LayoutView",
            "align_content": null,
            "align_items": null,
            "align_self": null,
            "border": null,
            "bottom": null,
            "display": null,
            "flex": null,
            "flex_flow": null,
            "grid_area": null,
            "grid_auto_columns": null,
            "grid_auto_flow": null,
            "grid_auto_rows": null,
            "grid_column": null,
            "grid_gap": null,
            "grid_row": null,
            "grid_template_areas": null,
            "grid_template_columns": null,
            "grid_template_rows": null,
            "height": null,
            "justify_content": null,
            "justify_items": null,
            "left": null,
            "margin": null,
            "max_height": null,
            "max_width": null,
            "min_height": null,
            "min_width": null,
            "object_fit": null,
            "object_position": null,
            "order": null,
            "overflow": null,
            "overflow_x": null,
            "overflow_y": null,
            "padding": null,
            "right": null,
            "top": null,
            "visibility": null,
            "width": null
          }
        },
        "bc3ec66f36844ae5af118d6aae5870ec": {
          "model_module": "@jupyter-widgets/controls",
          "model_name": "DescriptionStyleModel",
          "model_module_version": "1.5.0",
          "state": {
            "_model_module": "@jupyter-widgets/controls",
            "_model_module_version": "1.5.0",
            "_model_name": "DescriptionStyleModel",
            "_view_count": null,
            "_view_module": "@jupyter-widgets/base",
            "_view_module_version": "1.2.0",
            "_view_name": "StyleView",
            "description_width": ""
          }
        },
        "1ec47f7a55af4651a8166c61f7ce05c6": {
          "model_module": "@jupyter-widgets/base",
          "model_name": "LayoutModel",
          "model_module_version": "1.2.0",
          "state": {
            "_model_module": "@jupyter-widgets/base",
            "_model_module_version": "1.2.0",
            "_model_name": "LayoutModel",
            "_view_count": null,
            "_view_module": "@jupyter-widgets/base",
            "_view_module_version": "1.2.0",
            "_view_name": "LayoutView",
            "align_content": null,
            "align_items": null,
            "align_self": null,
            "border": null,
            "bottom": null,
            "display": null,
            "flex": null,
            "flex_flow": null,
            "grid_area": null,
            "grid_auto_columns": null,
            "grid_auto_flow": null,
            "grid_auto_rows": null,
            "grid_column": null,
            "grid_gap": null,
            "grid_row": null,
            "grid_template_areas": null,
            "grid_template_columns": null,
            "grid_template_rows": null,
            "height": null,
            "justify_content": null,
            "justify_items": null,
            "left": null,
            "margin": null,
            "max_height": null,
            "max_width": null,
            "min_height": null,
            "min_width": null,
            "object_fit": null,
            "object_position": null,
            "order": null,
            "overflow": null,
            "overflow_x": null,
            "overflow_y": null,
            "padding": null,
            "right": null,
            "top": null,
            "visibility": null,
            "width": null
          }
        },
        "f1a2bf0aa58f4eb08ff2eaf698615743": {
          "model_module": "@jupyter-widgets/controls",
          "model_name": "ProgressStyleModel",
          "model_module_version": "1.5.0",
          "state": {
            "_model_module": "@jupyter-widgets/controls",
            "_model_module_version": "1.5.0",
            "_model_name": "ProgressStyleModel",
            "_view_count": null,
            "_view_module": "@jupyter-widgets/base",
            "_view_module_version": "1.2.0",
            "_view_name": "StyleView",
            "bar_color": null,
            "description_width": ""
          }
        },
        "0cb0d28b02524c4dbf1c25e39f8e40cd": {
          "model_module": "@jupyter-widgets/base",
          "model_name": "LayoutModel",
          "model_module_version": "1.2.0",
          "state": {
            "_model_module": "@jupyter-widgets/base",
            "_model_module_version": "1.2.0",
            "_model_name": "LayoutModel",
            "_view_count": null,
            "_view_module": "@jupyter-widgets/base",
            "_view_module_version": "1.2.0",
            "_view_name": "LayoutView",
            "align_content": null,
            "align_items": null,
            "align_self": null,
            "border": null,
            "bottom": null,
            "display": null,
            "flex": null,
            "flex_flow": null,
            "grid_area": null,
            "grid_auto_columns": null,
            "grid_auto_flow": null,
            "grid_auto_rows": null,
            "grid_column": null,
            "grid_gap": null,
            "grid_row": null,
            "grid_template_areas": null,
            "grid_template_columns": null,
            "grid_template_rows": null,
            "height": null,
            "justify_content": null,
            "justify_items": null,
            "left": null,
            "margin": null,
            "max_height": null,
            "max_width": null,
            "min_height": null,
            "min_width": null,
            "object_fit": null,
            "object_position": null,
            "order": null,
            "overflow": null,
            "overflow_x": null,
            "overflow_y": null,
            "padding": null,
            "right": null,
            "top": null,
            "visibility": null,
            "width": null
          }
        },
        "aa18f57a114a4ae2bbe3dbf009ef1a6e": {
          "model_module": "@jupyter-widgets/controls",
          "model_name": "DescriptionStyleModel",
          "model_module_version": "1.5.0",
          "state": {
            "_model_module": "@jupyter-widgets/controls",
            "_model_module_version": "1.5.0",
            "_model_name": "DescriptionStyleModel",
            "_view_count": null,
            "_view_module": "@jupyter-widgets/base",
            "_view_module_version": "1.2.0",
            "_view_name": "StyleView",
            "description_width": ""
          }
        },
        "3ebaae877a294298a2402b5bdb2f12be": {
          "model_module": "@jupyter-widgets/controls",
          "model_name": "HBoxModel",
          "model_module_version": "1.5.0",
          "state": {
            "_dom_classes": [],
            "_model_module": "@jupyter-widgets/controls",
            "_model_module_version": "1.5.0",
            "_model_name": "HBoxModel",
            "_view_count": null,
            "_view_module": "@jupyter-widgets/controls",
            "_view_module_version": "1.5.0",
            "_view_name": "HBoxView",
            "box_style": "",
            "children": [
              "IPY_MODEL_dcba58ae93704c25938125ff0283519f",
              "IPY_MODEL_a906f33badb348a6863e53d624e2e565",
              "IPY_MODEL_301fde070653496992472d0e551573eb"
            ],
            "layout": "IPY_MODEL_fac1b283515d4a51b5f4d8e238c29daa"
          }
        },
        "dcba58ae93704c25938125ff0283519f": {
          "model_module": "@jupyter-widgets/controls",
          "model_name": "HTMLModel",
          "model_module_version": "1.5.0",
          "state": {
            "_dom_classes": [],
            "_model_module": "@jupyter-widgets/controls",
            "_model_module_version": "1.5.0",
            "_model_name": "HTMLModel",
            "_view_count": null,
            "_view_module": "@jupyter-widgets/controls",
            "_view_module_version": "1.5.0",
            "_view_name": "HTMLView",
            "description": "",
            "description_tooltip": null,
            "layout": "IPY_MODEL_ab7ccd1a024a49e9b570df29eaffaf20",
            "placeholder": "​",
            "style": "IPY_MODEL_cbbdd2744bae46e9b1003d5990903e89",
            "value": ""
          }
        },
        "a906f33badb348a6863e53d624e2e565": {
          "model_module": "@jupyter-widgets/controls",
          "model_name": "FloatProgressModel",
          "model_module_version": "1.5.0",
          "state": {
            "_dom_classes": [],
            "_model_module": "@jupyter-widgets/controls",
            "_model_module_version": "1.5.0",
            "_model_name": "FloatProgressModel",
            "_view_count": null,
            "_view_module": "@jupyter-widgets/controls",
            "_view_module_version": "1.5.0",
            "_view_name": "ProgressView",
            "bar_style": "success",
            "description": "",
            "description_tooltip": null,
            "layout": "IPY_MODEL_ab9ee9b80bf74a7a9347720f4866c9e4",
            "max": 28881,
            "min": 0,
            "orientation": "horizontal",
            "style": "IPY_MODEL_ea1a0b04b3874f1cb45b9bbe8996bd32",
            "value": 28881
          }
        },
        "301fde070653496992472d0e551573eb": {
          "model_module": "@jupyter-widgets/controls",
          "model_name": "HTMLModel",
          "model_module_version": "1.5.0",
          "state": {
            "_dom_classes": [],
            "_model_module": "@jupyter-widgets/controls",
            "_model_module_version": "1.5.0",
            "_model_name": "HTMLModel",
            "_view_count": null,
            "_view_module": "@jupyter-widgets/controls",
            "_view_module_version": "1.5.0",
            "_view_name": "HTMLView",
            "description": "",
            "description_tooltip": null,
            "layout": "IPY_MODEL_962e26204a054ec99facfebda5a13fc6",
            "placeholder": "​",
            "style": "IPY_MODEL_b90576823f8a405b95d40d303ab5a566",
            "value": " 29696/? [00:00&lt;00:00, 816790.73it/s]"
          }
        },
        "fac1b283515d4a51b5f4d8e238c29daa": {
          "model_module": "@jupyter-widgets/base",
          "model_name": "LayoutModel",
          "model_module_version": "1.2.0",
          "state": {
            "_model_module": "@jupyter-widgets/base",
            "_model_module_version": "1.2.0",
            "_model_name": "LayoutModel",
            "_view_count": null,
            "_view_module": "@jupyter-widgets/base",
            "_view_module_version": "1.2.0",
            "_view_name": "LayoutView",
            "align_content": null,
            "align_items": null,
            "align_self": null,
            "border": null,
            "bottom": null,
            "display": null,
            "flex": null,
            "flex_flow": null,
            "grid_area": null,
            "grid_auto_columns": null,
            "grid_auto_flow": null,
            "grid_auto_rows": null,
            "grid_column": null,
            "grid_gap": null,
            "grid_row": null,
            "grid_template_areas": null,
            "grid_template_columns": null,
            "grid_template_rows": null,
            "height": null,
            "justify_content": null,
            "justify_items": null,
            "left": null,
            "margin": null,
            "max_height": null,
            "max_width": null,
            "min_height": null,
            "min_width": null,
            "object_fit": null,
            "object_position": null,
            "order": null,
            "overflow": null,
            "overflow_x": null,
            "overflow_y": null,
            "padding": null,
            "right": null,
            "top": null,
            "visibility": null,
            "width": null
          }
        },
        "ab7ccd1a024a49e9b570df29eaffaf20": {
          "model_module": "@jupyter-widgets/base",
          "model_name": "LayoutModel",
          "model_module_version": "1.2.0",
          "state": {
            "_model_module": "@jupyter-widgets/base",
            "_model_module_version": "1.2.0",
            "_model_name": "LayoutModel",
            "_view_count": null,
            "_view_module": "@jupyter-widgets/base",
            "_view_module_version": "1.2.0",
            "_view_name": "LayoutView",
            "align_content": null,
            "align_items": null,
            "align_self": null,
            "border": null,
            "bottom": null,
            "display": null,
            "flex": null,
            "flex_flow": null,
            "grid_area": null,
            "grid_auto_columns": null,
            "grid_auto_flow": null,
            "grid_auto_rows": null,
            "grid_column": null,
            "grid_gap": null,
            "grid_row": null,
            "grid_template_areas": null,
            "grid_template_columns": null,
            "grid_template_rows": null,
            "height": null,
            "justify_content": null,
            "justify_items": null,
            "left": null,
            "margin": null,
            "max_height": null,
            "max_width": null,
            "min_height": null,
            "min_width": null,
            "object_fit": null,
            "object_position": null,
            "order": null,
            "overflow": null,
            "overflow_x": null,
            "overflow_y": null,
            "padding": null,
            "right": null,
            "top": null,
            "visibility": null,
            "width": null
          }
        },
        "cbbdd2744bae46e9b1003d5990903e89": {
          "model_module": "@jupyter-widgets/controls",
          "model_name": "DescriptionStyleModel",
          "model_module_version": "1.5.0",
          "state": {
            "_model_module": "@jupyter-widgets/controls",
            "_model_module_version": "1.5.0",
            "_model_name": "DescriptionStyleModel",
            "_view_count": null,
            "_view_module": "@jupyter-widgets/base",
            "_view_module_version": "1.2.0",
            "_view_name": "StyleView",
            "description_width": ""
          }
        },
        "ab9ee9b80bf74a7a9347720f4866c9e4": {
          "model_module": "@jupyter-widgets/base",
          "model_name": "LayoutModel",
          "model_module_version": "1.2.0",
          "state": {
            "_model_module": "@jupyter-widgets/base",
            "_model_module_version": "1.2.0",
            "_model_name": "LayoutModel",
            "_view_count": null,
            "_view_module": "@jupyter-widgets/base",
            "_view_module_version": "1.2.0",
            "_view_name": "LayoutView",
            "align_content": null,
            "align_items": null,
            "align_self": null,
            "border": null,
            "bottom": null,
            "display": null,
            "flex": null,
            "flex_flow": null,
            "grid_area": null,
            "grid_auto_columns": null,
            "grid_auto_flow": null,
            "grid_auto_rows": null,
            "grid_column": null,
            "grid_gap": null,
            "grid_row": null,
            "grid_template_areas": null,
            "grid_template_columns": null,
            "grid_template_rows": null,
            "height": null,
            "justify_content": null,
            "justify_items": null,
            "left": null,
            "margin": null,
            "max_height": null,
            "max_width": null,
            "min_height": null,
            "min_width": null,
            "object_fit": null,
            "object_position": null,
            "order": null,
            "overflow": null,
            "overflow_x": null,
            "overflow_y": null,
            "padding": null,
            "right": null,
            "top": null,
            "visibility": null,
            "width": null
          }
        },
        "ea1a0b04b3874f1cb45b9bbe8996bd32": {
          "model_module": "@jupyter-widgets/controls",
          "model_name": "ProgressStyleModel",
          "model_module_version": "1.5.0",
          "state": {
            "_model_module": "@jupyter-widgets/controls",
            "_model_module_version": "1.5.0",
            "_model_name": "ProgressStyleModel",
            "_view_count": null,
            "_view_module": "@jupyter-widgets/base",
            "_view_module_version": "1.2.0",
            "_view_name": "StyleView",
            "bar_color": null,
            "description_width": ""
          }
        },
        "962e26204a054ec99facfebda5a13fc6": {
          "model_module": "@jupyter-widgets/base",
          "model_name": "LayoutModel",
          "model_module_version": "1.2.0",
          "state": {
            "_model_module": "@jupyter-widgets/base",
            "_model_module_version": "1.2.0",
            "_model_name": "LayoutModel",
            "_view_count": null,
            "_view_module": "@jupyter-widgets/base",
            "_view_module_version": "1.2.0",
            "_view_name": "LayoutView",
            "align_content": null,
            "align_items": null,
            "align_self": null,
            "border": null,
            "bottom": null,
            "display": null,
            "flex": null,
            "flex_flow": null,
            "grid_area": null,
            "grid_auto_columns": null,
            "grid_auto_flow": null,
            "grid_auto_rows": null,
            "grid_column": null,
            "grid_gap": null,
            "grid_row": null,
            "grid_template_areas": null,
            "grid_template_columns": null,
            "grid_template_rows": null,
            "height": null,
            "justify_content": null,
            "justify_items": null,
            "left": null,
            "margin": null,
            "max_height": null,
            "max_width": null,
            "min_height": null,
            "min_width": null,
            "object_fit": null,
            "object_position": null,
            "order": null,
            "overflow": null,
            "overflow_x": null,
            "overflow_y": null,
            "padding": null,
            "right": null,
            "top": null,
            "visibility": null,
            "width": null
          }
        },
        "b90576823f8a405b95d40d303ab5a566": {
          "model_module": "@jupyter-widgets/controls",
          "model_name": "DescriptionStyleModel",
          "model_module_version": "1.5.0",
          "state": {
            "_model_module": "@jupyter-widgets/controls",
            "_model_module_version": "1.5.0",
            "_model_name": "DescriptionStyleModel",
            "_view_count": null,
            "_view_module": "@jupyter-widgets/base",
            "_view_module_version": "1.2.0",
            "_view_name": "StyleView",
            "description_width": ""
          }
        },
        "7f92ccdac87542e3b0d77ff91c7fd3c7": {
          "model_module": "@jupyter-widgets/controls",
          "model_name": "HBoxModel",
          "model_module_version": "1.5.0",
          "state": {
            "_dom_classes": [],
            "_model_module": "@jupyter-widgets/controls",
            "_model_module_version": "1.5.0",
            "_model_name": "HBoxModel",
            "_view_count": null,
            "_view_module": "@jupyter-widgets/controls",
            "_view_module_version": "1.5.0",
            "_view_name": "HBoxView",
            "box_style": "",
            "children": [
              "IPY_MODEL_37f2ab2d80e046069a59e37517b321f5",
              "IPY_MODEL_62a2807c26fa4451bb6d00e49337bc1f",
              "IPY_MODEL_b09909dfc3b4418fa868667ae2ffd74a"
            ],
            "layout": "IPY_MODEL_d1c516a951114d359182ea742bfde268"
          }
        },
        "37f2ab2d80e046069a59e37517b321f5": {
          "model_module": "@jupyter-widgets/controls",
          "model_name": "HTMLModel",
          "model_module_version": "1.5.0",
          "state": {
            "_dom_classes": [],
            "_model_module": "@jupyter-widgets/controls",
            "_model_module_version": "1.5.0",
            "_model_name": "HTMLModel",
            "_view_count": null,
            "_view_module": "@jupyter-widgets/controls",
            "_view_module_version": "1.5.0",
            "_view_name": "HTMLView",
            "description": "",
            "description_tooltip": null,
            "layout": "IPY_MODEL_3cc69abc42fa47d285e0a986c06a4b1a",
            "placeholder": "​",
            "style": "IPY_MODEL_fdb1ceb453dc4b6a8eab511db4ec585c",
            "value": ""
          }
        },
        "62a2807c26fa4451bb6d00e49337bc1f": {
          "model_module": "@jupyter-widgets/controls",
          "model_name": "FloatProgressModel",
          "model_module_version": "1.5.0",
          "state": {
            "_dom_classes": [],
            "_model_module": "@jupyter-widgets/controls",
            "_model_module_version": "1.5.0",
            "_model_name": "FloatProgressModel",
            "_view_count": null,
            "_view_module": "@jupyter-widgets/controls",
            "_view_module_version": "1.5.0",
            "_view_name": "ProgressView",
            "bar_style": "success",
            "description": "",
            "description_tooltip": null,
            "layout": "IPY_MODEL_65b5a75059744d378ff201f2acbb168f",
            "max": 1648877,
            "min": 0,
            "orientation": "horizontal",
            "style": "IPY_MODEL_ec091fdf0155476a931a77a3a9cdf642",
            "value": 1648877
          }
        },
        "b09909dfc3b4418fa868667ae2ffd74a": {
          "model_module": "@jupyter-widgets/controls",
          "model_name": "HTMLModel",
          "model_module_version": "1.5.0",
          "state": {
            "_dom_classes": [],
            "_model_module": "@jupyter-widgets/controls",
            "_model_module_version": "1.5.0",
            "_model_name": "HTMLModel",
            "_view_count": null,
            "_view_module": "@jupyter-widgets/controls",
            "_view_module_version": "1.5.0",
            "_view_name": "HTMLView",
            "description": "",
            "description_tooltip": null,
            "layout": "IPY_MODEL_24c57230488f4358b18b3b7832ad9733",
            "placeholder": "​",
            "style": "IPY_MODEL_f7de891a78614915ab3795ea1eae2698",
            "value": " 1649664/? [00:00&lt;00:00, 27362537.87it/s]"
          }
        },
        "d1c516a951114d359182ea742bfde268": {
          "model_module": "@jupyter-widgets/base",
          "model_name": "LayoutModel",
          "model_module_version": "1.2.0",
          "state": {
            "_model_module": "@jupyter-widgets/base",
            "_model_module_version": "1.2.0",
            "_model_name": "LayoutModel",
            "_view_count": null,
            "_view_module": "@jupyter-widgets/base",
            "_view_module_version": "1.2.0",
            "_view_name": "LayoutView",
            "align_content": null,
            "align_items": null,
            "align_self": null,
            "border": null,
            "bottom": null,
            "display": null,
            "flex": null,
            "flex_flow": null,
            "grid_area": null,
            "grid_auto_columns": null,
            "grid_auto_flow": null,
            "grid_auto_rows": null,
            "grid_column": null,
            "grid_gap": null,
            "grid_row": null,
            "grid_template_areas": null,
            "grid_template_columns": null,
            "grid_template_rows": null,
            "height": null,
            "justify_content": null,
            "justify_items": null,
            "left": null,
            "margin": null,
            "max_height": null,
            "max_width": null,
            "min_height": null,
            "min_width": null,
            "object_fit": null,
            "object_position": null,
            "order": null,
            "overflow": null,
            "overflow_x": null,
            "overflow_y": null,
            "padding": null,
            "right": null,
            "top": null,
            "visibility": null,
            "width": null
          }
        },
        "3cc69abc42fa47d285e0a986c06a4b1a": {
          "model_module": "@jupyter-widgets/base",
          "model_name": "LayoutModel",
          "model_module_version": "1.2.0",
          "state": {
            "_model_module": "@jupyter-widgets/base",
            "_model_module_version": "1.2.0",
            "_model_name": "LayoutModel",
            "_view_count": null,
            "_view_module": "@jupyter-widgets/base",
            "_view_module_version": "1.2.0",
            "_view_name": "LayoutView",
            "align_content": null,
            "align_items": null,
            "align_self": null,
            "border": null,
            "bottom": null,
            "display": null,
            "flex": null,
            "flex_flow": null,
            "grid_area": null,
            "grid_auto_columns": null,
            "grid_auto_flow": null,
            "grid_auto_rows": null,
            "grid_column": null,
            "grid_gap": null,
            "grid_row": null,
            "grid_template_areas": null,
            "grid_template_columns": null,
            "grid_template_rows": null,
            "height": null,
            "justify_content": null,
            "justify_items": null,
            "left": null,
            "margin": null,
            "max_height": null,
            "max_width": null,
            "min_height": null,
            "min_width": null,
            "object_fit": null,
            "object_position": null,
            "order": null,
            "overflow": null,
            "overflow_x": null,
            "overflow_y": null,
            "padding": null,
            "right": null,
            "top": null,
            "visibility": null,
            "width": null
          }
        },
        "fdb1ceb453dc4b6a8eab511db4ec585c": {
          "model_module": "@jupyter-widgets/controls",
          "model_name": "DescriptionStyleModel",
          "model_module_version": "1.5.0",
          "state": {
            "_model_module": "@jupyter-widgets/controls",
            "_model_module_version": "1.5.0",
            "_model_name": "DescriptionStyleModel",
            "_view_count": null,
            "_view_module": "@jupyter-widgets/base",
            "_view_module_version": "1.2.0",
            "_view_name": "StyleView",
            "description_width": ""
          }
        },
        "65b5a75059744d378ff201f2acbb168f": {
          "model_module": "@jupyter-widgets/base",
          "model_name": "LayoutModel",
          "model_module_version": "1.2.0",
          "state": {
            "_model_module": "@jupyter-widgets/base",
            "_model_module_version": "1.2.0",
            "_model_name": "LayoutModel",
            "_view_count": null,
            "_view_module": "@jupyter-widgets/base",
            "_view_module_version": "1.2.0",
            "_view_name": "LayoutView",
            "align_content": null,
            "align_items": null,
            "align_self": null,
            "border": null,
            "bottom": null,
            "display": null,
            "flex": null,
            "flex_flow": null,
            "grid_area": null,
            "grid_auto_columns": null,
            "grid_auto_flow": null,
            "grid_auto_rows": null,
            "grid_column": null,
            "grid_gap": null,
            "grid_row": null,
            "grid_template_areas": null,
            "grid_template_columns": null,
            "grid_template_rows": null,
            "height": null,
            "justify_content": null,
            "justify_items": null,
            "left": null,
            "margin": null,
            "max_height": null,
            "max_width": null,
            "min_height": null,
            "min_width": null,
            "object_fit": null,
            "object_position": null,
            "order": null,
            "overflow": null,
            "overflow_x": null,
            "overflow_y": null,
            "padding": null,
            "right": null,
            "top": null,
            "visibility": null,
            "width": null
          }
        },
        "ec091fdf0155476a931a77a3a9cdf642": {
          "model_module": "@jupyter-widgets/controls",
          "model_name": "ProgressStyleModel",
          "model_module_version": "1.5.0",
          "state": {
            "_model_module": "@jupyter-widgets/controls",
            "_model_module_version": "1.5.0",
            "_model_name": "ProgressStyleModel",
            "_view_count": null,
            "_view_module": "@jupyter-widgets/base",
            "_view_module_version": "1.2.0",
            "_view_name": "StyleView",
            "bar_color": null,
            "description_width": ""
          }
        },
        "24c57230488f4358b18b3b7832ad9733": {
          "model_module": "@jupyter-widgets/base",
          "model_name": "LayoutModel",
          "model_module_version": "1.2.0",
          "state": {
            "_model_module": "@jupyter-widgets/base",
            "_model_module_version": "1.2.0",
            "_model_name": "LayoutModel",
            "_view_count": null,
            "_view_module": "@jupyter-widgets/base",
            "_view_module_version": "1.2.0",
            "_view_name": "LayoutView",
            "align_content": null,
            "align_items": null,
            "align_self": null,
            "border": null,
            "bottom": null,
            "display": null,
            "flex": null,
            "flex_flow": null,
            "grid_area": null,
            "grid_auto_columns": null,
            "grid_auto_flow": null,
            "grid_auto_rows": null,
            "grid_column": null,
            "grid_gap": null,
            "grid_row": null,
            "grid_template_areas": null,
            "grid_template_columns": null,
            "grid_template_rows": null,
            "height": null,
            "justify_content": null,
            "justify_items": null,
            "left": null,
            "margin": null,
            "max_height": null,
            "max_width": null,
            "min_height": null,
            "min_width": null,
            "object_fit": null,
            "object_position": null,
            "order": null,
            "overflow": null,
            "overflow_x": null,
            "overflow_y": null,
            "padding": null,
            "right": null,
            "top": null,
            "visibility": null,
            "width": null
          }
        },
        "f7de891a78614915ab3795ea1eae2698": {
          "model_module": "@jupyter-widgets/controls",
          "model_name": "DescriptionStyleModel",
          "model_module_version": "1.5.0",
          "state": {
            "_model_module": "@jupyter-widgets/controls",
            "_model_module_version": "1.5.0",
            "_model_name": "DescriptionStyleModel",
            "_view_count": null,
            "_view_module": "@jupyter-widgets/base",
            "_view_module_version": "1.2.0",
            "_view_name": "StyleView",
            "description_width": ""
          }
        },
        "ae302e4dbb7347e5b7002cd6ba960baa": {
          "model_module": "@jupyter-widgets/controls",
          "model_name": "HBoxModel",
          "model_module_version": "1.5.0",
          "state": {
            "_dom_classes": [],
            "_model_module": "@jupyter-widgets/controls",
            "_model_module_version": "1.5.0",
            "_model_name": "HBoxModel",
            "_view_count": null,
            "_view_module": "@jupyter-widgets/controls",
            "_view_module_version": "1.5.0",
            "_view_name": "HBoxView",
            "box_style": "",
            "children": [
              "IPY_MODEL_2e55a3f087cc4b36b5bc7db1bd77cd9f",
              "IPY_MODEL_79316fe297364ff7a81dee4406b3f0db",
              "IPY_MODEL_88644ac6afe340eabc322173f82bfdaa"
            ],
            "layout": "IPY_MODEL_332ee6dae6494d9d99904a35672a390e"
          }
        },
        "2e55a3f087cc4b36b5bc7db1bd77cd9f": {
          "model_module": "@jupyter-widgets/controls",
          "model_name": "HTMLModel",
          "model_module_version": "1.5.0",
          "state": {
            "_dom_classes": [],
            "_model_module": "@jupyter-widgets/controls",
            "_model_module_version": "1.5.0",
            "_model_name": "HTMLModel",
            "_view_count": null,
            "_view_module": "@jupyter-widgets/controls",
            "_view_module_version": "1.5.0",
            "_view_name": "HTMLView",
            "description": "",
            "description_tooltip": null,
            "layout": "IPY_MODEL_139bd08a62304305affa24804e8695d8",
            "placeholder": "​",
            "style": "IPY_MODEL_66a7c68a163144d5accb9f25f5878b40",
            "value": ""
          }
        },
        "79316fe297364ff7a81dee4406b3f0db": {
          "model_module": "@jupyter-widgets/controls",
          "model_name": "FloatProgressModel",
          "model_module_version": "1.5.0",
          "state": {
            "_dom_classes": [],
            "_model_module": "@jupyter-widgets/controls",
            "_model_module_version": "1.5.0",
            "_model_name": "FloatProgressModel",
            "_view_count": null,
            "_view_module": "@jupyter-widgets/controls",
            "_view_module_version": "1.5.0",
            "_view_name": "ProgressView",
            "bar_style": "success",
            "description": "",
            "description_tooltip": null,
            "layout": "IPY_MODEL_f8978d7e056e4840a5146077527458c4",
            "max": 4542,
            "min": 0,
            "orientation": "horizontal",
            "style": "IPY_MODEL_28d4c669441a4a2f834a4cf5ab0b0f30",
            "value": 4542
          }
        },
        "88644ac6afe340eabc322173f82bfdaa": {
          "model_module": "@jupyter-widgets/controls",
          "model_name": "HTMLModel",
          "model_module_version": "1.5.0",
          "state": {
            "_dom_classes": [],
            "_model_module": "@jupyter-widgets/controls",
            "_model_module_version": "1.5.0",
            "_model_name": "HTMLModel",
            "_view_count": null,
            "_view_module": "@jupyter-widgets/controls",
            "_view_module_version": "1.5.0",
            "_view_name": "HTMLView",
            "description": "",
            "description_tooltip": null,
            "layout": "IPY_MODEL_34a87114fe6943dba914a4f6eb171331",
            "placeholder": "​",
            "style": "IPY_MODEL_beb337cf24b448e9b848d4c297200ece",
            "value": " 5120/? [00:00&lt;00:00, 167252.11it/s]"
          }
        },
        "332ee6dae6494d9d99904a35672a390e": {
          "model_module": "@jupyter-widgets/base",
          "model_name": "LayoutModel",
          "model_module_version": "1.2.0",
          "state": {
            "_model_module": "@jupyter-widgets/base",
            "_model_module_version": "1.2.0",
            "_model_name": "LayoutModel",
            "_view_count": null,
            "_view_module": "@jupyter-widgets/base",
            "_view_module_version": "1.2.0",
            "_view_name": "LayoutView",
            "align_content": null,
            "align_items": null,
            "align_self": null,
            "border": null,
            "bottom": null,
            "display": null,
            "flex": null,
            "flex_flow": null,
            "grid_area": null,
            "grid_auto_columns": null,
            "grid_auto_flow": null,
            "grid_auto_rows": null,
            "grid_column": null,
            "grid_gap": null,
            "grid_row": null,
            "grid_template_areas": null,
            "grid_template_columns": null,
            "grid_template_rows": null,
            "height": null,
            "justify_content": null,
            "justify_items": null,
            "left": null,
            "margin": null,
            "max_height": null,
            "max_width": null,
            "min_height": null,
            "min_width": null,
            "object_fit": null,
            "object_position": null,
            "order": null,
            "overflow": null,
            "overflow_x": null,
            "overflow_y": null,
            "padding": null,
            "right": null,
            "top": null,
            "visibility": null,
            "width": null
          }
        },
        "139bd08a62304305affa24804e8695d8": {
          "model_module": "@jupyter-widgets/base",
          "model_name": "LayoutModel",
          "model_module_version": "1.2.0",
          "state": {
            "_model_module": "@jupyter-widgets/base",
            "_model_module_version": "1.2.0",
            "_model_name": "LayoutModel",
            "_view_count": null,
            "_view_module": "@jupyter-widgets/base",
            "_view_module_version": "1.2.0",
            "_view_name": "LayoutView",
            "align_content": null,
            "align_items": null,
            "align_self": null,
            "border": null,
            "bottom": null,
            "display": null,
            "flex": null,
            "flex_flow": null,
            "grid_area": null,
            "grid_auto_columns": null,
            "grid_auto_flow": null,
            "grid_auto_rows": null,
            "grid_column": null,
            "grid_gap": null,
            "grid_row": null,
            "grid_template_areas": null,
            "grid_template_columns": null,
            "grid_template_rows": null,
            "height": null,
            "justify_content": null,
            "justify_items": null,
            "left": null,
            "margin": null,
            "max_height": null,
            "max_width": null,
            "min_height": null,
            "min_width": null,
            "object_fit": null,
            "object_position": null,
            "order": null,
            "overflow": null,
            "overflow_x": null,
            "overflow_y": null,
            "padding": null,
            "right": null,
            "top": null,
            "visibility": null,
            "width": null
          }
        },
        "66a7c68a163144d5accb9f25f5878b40": {
          "model_module": "@jupyter-widgets/controls",
          "model_name": "DescriptionStyleModel",
          "model_module_version": "1.5.0",
          "state": {
            "_model_module": "@jupyter-widgets/controls",
            "_model_module_version": "1.5.0",
            "_model_name": "DescriptionStyleModel",
            "_view_count": null,
            "_view_module": "@jupyter-widgets/base",
            "_view_module_version": "1.2.0",
            "_view_name": "StyleView",
            "description_width": ""
          }
        },
        "f8978d7e056e4840a5146077527458c4": {
          "model_module": "@jupyter-widgets/base",
          "model_name": "LayoutModel",
          "model_module_version": "1.2.0",
          "state": {
            "_model_module": "@jupyter-widgets/base",
            "_model_module_version": "1.2.0",
            "_model_name": "LayoutModel",
            "_view_count": null,
            "_view_module": "@jupyter-widgets/base",
            "_view_module_version": "1.2.0",
            "_view_name": "LayoutView",
            "align_content": null,
            "align_items": null,
            "align_self": null,
            "border": null,
            "bottom": null,
            "display": null,
            "flex": null,
            "flex_flow": null,
            "grid_area": null,
            "grid_auto_columns": null,
            "grid_auto_flow": null,
            "grid_auto_rows": null,
            "grid_column": null,
            "grid_gap": null,
            "grid_row": null,
            "grid_template_areas": null,
            "grid_template_columns": null,
            "grid_template_rows": null,
            "height": null,
            "justify_content": null,
            "justify_items": null,
            "left": null,
            "margin": null,
            "max_height": null,
            "max_width": null,
            "min_height": null,
            "min_width": null,
            "object_fit": null,
            "object_position": null,
            "order": null,
            "overflow": null,
            "overflow_x": null,
            "overflow_y": null,
            "padding": null,
            "right": null,
            "top": null,
            "visibility": null,
            "width": null
          }
        },
        "28d4c669441a4a2f834a4cf5ab0b0f30": {
          "model_module": "@jupyter-widgets/controls",
          "model_name": "ProgressStyleModel",
          "model_module_version": "1.5.0",
          "state": {
            "_model_module": "@jupyter-widgets/controls",
            "_model_module_version": "1.5.0",
            "_model_name": "ProgressStyleModel",
            "_view_count": null,
            "_view_module": "@jupyter-widgets/base",
            "_view_module_version": "1.2.0",
            "_view_name": "StyleView",
            "bar_color": null,
            "description_width": ""
          }
        },
        "34a87114fe6943dba914a4f6eb171331": {
          "model_module": "@jupyter-widgets/base",
          "model_name": "LayoutModel",
          "model_module_version": "1.2.0",
          "state": {
            "_model_module": "@jupyter-widgets/base",
            "_model_module_version": "1.2.0",
            "_model_name": "LayoutModel",
            "_view_count": null,
            "_view_module": "@jupyter-widgets/base",
            "_view_module_version": "1.2.0",
            "_view_name": "LayoutView",
            "align_content": null,
            "align_items": null,
            "align_self": null,
            "border": null,
            "bottom": null,
            "display": null,
            "flex": null,
            "flex_flow": null,
            "grid_area": null,
            "grid_auto_columns": null,
            "grid_auto_flow": null,
            "grid_auto_rows": null,
            "grid_column": null,
            "grid_gap": null,
            "grid_row": null,
            "grid_template_areas": null,
            "grid_template_columns": null,
            "grid_template_rows": null,
            "height": null,
            "justify_content": null,
            "justify_items": null,
            "left": null,
            "margin": null,
            "max_height": null,
            "max_width": null,
            "min_height": null,
            "min_width": null,
            "object_fit": null,
            "object_position": null,
            "order": null,
            "overflow": null,
            "overflow_x": null,
            "overflow_y": null,
            "padding": null,
            "right": null,
            "top": null,
            "visibility": null,
            "width": null
          }
        },
        "beb337cf24b448e9b848d4c297200ece": {
          "model_module": "@jupyter-widgets/controls",
          "model_name": "DescriptionStyleModel",
          "model_module_version": "1.5.0",
          "state": {
            "_model_module": "@jupyter-widgets/controls",
            "_model_module_version": "1.5.0",
            "_model_name": "DescriptionStyleModel",
            "_view_count": null,
            "_view_module": "@jupyter-widgets/base",
            "_view_module_version": "1.2.0",
            "_view_name": "StyleView",
            "description_width": ""
          }
        }
      }
    }
  },
  "cells": [
    {
      "cell_type": "markdown",
      "source": [
        "# PyTorchでAutoEncoderを実装する\n",
        "本資料は、以下の資料に日本語のコメントを追加したものです。  \n",
        "**DS-GA 1008 · SPRING 2020 · NYU CENTER FOR DATA SCIENCE**  \n",
        "URL: https://atcold.github.io/pytorch-Deep-Learning/  \n",
        "URL: https://atcold.github.io/pytorch-Deep-Learning/ja/ (日本語)  \n",
        "**pytorch-Deep-Learning**  \n",
        "URL: https://github.com/Atcold/pytorch-Deep-Learning  \n",
        "**10-autoencoder.ipynb**  \n",
        "URL: https://github.com/Atcold/pytorch-Deep-Learning/blob/master/10-autoencoder.ipynb\n"
      ],
      "metadata": {
        "id": "5k1fDacEFXPu"
      }
    },
    {
      "cell_type": "markdown",
      "source": [
        "# Google ColaboratoryにおけるGPUランタイムの設定"
      ],
      "metadata": {
        "id": "B5c4ujOqxHak"
      }
    },
    {
      "cell_type": "markdown",
      "source": [
        "1. 接続をクリックする。  \n",
        "2. 接続できるとRAMとディスクの容量が表示される。  \n",
        "3. ランタイムから「ランタイムのタイプの変更」。GPUを選択して保存する。\n",
        "4. コマンド nvidia-smi を使用してGPUのステータスを確認する。"
      ],
      "metadata": {
        "id": "C7ypG5YBxaJ8"
      }
    },
    {
      "cell_type": "code",
      "source": [
        "!nvidia-smi"
      ],
      "metadata": {
        "colab": {
          "base_uri": "https://localhost:8080/"
        },
        "id": "qOJTxU-IylDT",
        "outputId": "a3600b80-7a26-4183-8b45-81d60fad1e52"
      },
      "execution_count": 1,
      "outputs": [
        {
          "output_type": "stream",
          "name": "stdout",
          "text": [
            "Mon Jun 27 07:00:24 2022       \n",
            "+-----------------------------------------------------------------------------+\n",
            "| NVIDIA-SMI 460.32.03    Driver Version: 460.32.03    CUDA Version: 11.2     |\n",
            "|-------------------------------+----------------------+----------------------+\n",
            "| GPU  Name        Persistence-M| Bus-Id        Disp.A | Volatile Uncorr. ECC |\n",
            "| Fan  Temp  Perf  Pwr:Usage/Cap|         Memory-Usage | GPU-Util  Compute M. |\n",
            "|                               |                      |               MIG M. |\n",
            "|===============================+======================+======================|\n",
            "|   0  Tesla T4            Off  | 00000000:00:04.0 Off |                    0 |\n",
            "| N/A   64C    P8    11W /  70W |      0MiB / 15109MiB |      0%      Default |\n",
            "|                               |                      |                  N/A |\n",
            "+-------------------------------+----------------------+----------------------+\n",
            "                                                                               \n",
            "+-----------------------------------------------------------------------------+\n",
            "| Processes:                                                                  |\n",
            "|  GPU   GI   CI        PID   Type   Process name                  GPU Memory |\n",
            "|        ID   ID                                                   Usage      |\n",
            "|=============================================================================|\n",
            "|  No running processes found                                                 |\n",
            "+-----------------------------------------------------------------------------+\n"
          ]
        }
      ]
    },
    {
      "cell_type": "markdown",
      "source": [
        "# PyTorchのバージョンの確認"
      ],
      "metadata": {
        "id": "RzKRi78-3--L"
      }
    },
    {
      "cell_type": "code",
      "source": [
        "# pytorchを仮にインポートしてバージョンを確認する\n",
        "!python -c 'import torch; print(torch.__version__) '"
      ],
      "metadata": {
        "colab": {
          "base_uri": "https://localhost:8080/"
        },
        "id": "eKBXXxEMx9-a",
        "outputId": "1191061c-1fc4-421a-c671-cf2d7eaba2d8"
      },
      "execution_count": 2,
      "outputs": [
        {
          "output_type": "stream",
          "name": "stdout",
          "text": [
            "1.11.0+cu113\n"
          ]
        }
      ]
    },
    {
      "cell_type": "markdown",
      "source": [
        "# モジュールのインポート\n",
        "ここではいくつかのモジュールをインポートします。モジュール(module)とは、クラスや関数を定義したファイルのことです。これは以下のいずれかの記述により実現される。\n",
        "\n",
        "1.   import構文\n",
        "2.   from A import B 構文\n",
        "3.   from A import B as C 構文 "
      ],
      "metadata": {
        "id": "VFQKGso93Veo"
      }
    },
    {
      "cell_type": "code",
      "source": [
        "# PyTorchのインポート\n",
        "import torch\n",
        "\n",
        "# 処理デバイス名を設定する。\n",
        "# GPUを使うなら cuda:0 ←複数台のGPUがある場合、番号を指定する。\n",
        "# CPUを使うなら cpu\n",
        "device = torch.device(\"cuda:0\" if torch.cuda.is_available() else \"cpu\")\n",
        "print(device)"
      ],
      "metadata": {
        "id": "e_YzKilzzYb5",
        "colab": {
          "base_uri": "https://localhost:8080/"
        },
        "outputId": "9c9ddfc4-5c17-4301-ae05-2217df670baf"
      },
      "execution_count": 3,
      "outputs": [
        {
          "output_type": "stream",
          "name": "stdout",
          "text": [
            "cuda:0\n"
          ]
        }
      ]
    },
    {
      "cell_type": "markdown",
      "source": [
        "# 使用するモジュール\n",
        "## torchvision\n",
        "URL: https://github.com/pytorch/vision  \n",
        "\"The torchvision package consists of popular datasets, \n",
        "model architectures, and common image transformations for computer vision.\"  \n",
        "実験用のデータセットが含まれるほか、以下のような機能を有する。  \n",
        "Transform, Classification, Semantic Segmentation, Object Detection,\n",
        "Video Classification, Opticalflow, ...\n",
        "\n",
        "## nn\n",
        "URL: https://github.com/torch/nn  \n",
        "\"This package provides an easy and modular way to build and train simple\n",
        "or complex neural networks using Torch\"  \n",
        "以下のような機能を有する。  \n",
        "2,3-dimensional convolution, max pooling, linear, ReLU, softmax, ...。\n",
        "\n",
        "## DataLoader\n",
        "URL: https://pytorch.org/docs/stable/data.html  \n",
        "DataLoaderを使うことでミニバッチ処理が簡単に実行できる。\n",
        "\n",
        "## Transforms\n",
        "URL: https://pytorch.org/vision/0.9/transforms.html  \n",
        "NNを実行する前の前処理における変形などの機能を含む。\n",
        "\n",
        "## MNIST\n",
        "URL: https://pytorch.org/vision/stable/datasets.html  \n",
        "手書き文字データベースMNISTを読み込む。\n",
        "\n",
        "## matplotlib\n",
        "URL: https://github.com/matplotlib/matplotlib  \n",
        "ここでは2次元画像の描画に使用する。"
      ],
      "metadata": {
        "id": "g9NR1W0h4NBx"
      }
    },
    {
      "cell_type": "code",
      "execution_count": 4,
      "metadata": {
        "id": "7Ny7dLPYxAEX"
      },
      "outputs": [],
      "source": [
        "import torchvision\n",
        "from torch import nn\n",
        "from torch.utils.data import DataLoader\n",
        "from torchvision import transforms\n",
        "from torchvision.datasets import MNIST\n",
        "from matplotlib import pyplot as plt"
      ]
    },
    {
      "cell_type": "markdown",
      "source": [
        "# 前処理\n",
        "\n",
        "### ミニバッチ処理のサイズの設定\n",
        "* ミニバッチ処理  \n",
        "学習には、①バッチ学習、②オンライン学習、③ミニバッチ学習がある。膨大な学習データがある場合、そのデータからランダムにN個を選択し、そのN個を用いて損失関数を演算子、その結果から学習する。これを繰り返すことですべての学習データを処理する方法がミニバッチ学習である。メリット: １件ずつ学習する（オンライン学習）よりも安定的である。学習データ内に含まれる例外的な異常データから受ける影響を抑制できる（オンライン学習に比べて）。デメリット: メモリ使用量はオンライン学習よりも大きい。\n",
        "\n",
        "### 入力画像に対する前処理の定義\n",
        "* ToTensor  \n",
        "読み込んだ画像の配列情報（例えばnumpy型）をTensor型に変換する。値を[0.0-1.0]の範囲に変換する。\n",
        "* Normalize  \n",
        "画素値を指定された平均値と標準偏差で正規化する。x_new = (x - mean) / std。mean=0.5, std=0.5 の場合 x_new = 2x - 1 となる。つまり、値を[-1.0, 1.0]の範囲に変換する（ここでは活性化関数 tanh の値域[-1.0, 1.0]に合わせるため）。"
      ],
      "metadata": {
        "id": "avoejV5j5ldj"
      }
    },
    {
      "cell_type": "code",
      "source": [
        "# ミニバッチのサイズを決める\n",
        "batch_size = 256\n",
        "\n",
        "# 入力画像に対する前処理の定義\n",
        "img_transform = transforms.Compose([\n",
        "    transforms.ToTensor(),\n",
        "    transforms.Normalize((0.5,), (0.5,))\n",
        "])\n",
        "\n",
        "# データベースの読み込み\n",
        "dataset = MNIST('./data', transform=img_transform, download=True)\n",
        "\n",
        "# 学習時に使いやすいようにDataLoaderにデータセットとバッチサイズを設定。\n",
        "# shuffle - True: 取り出すミニバッチが毎回変わる\n",
        "dataloader = DataLoader(dataset, batch_size=batch_size, shuffle=True)"
      ],
      "metadata": {
        "id": "RijYljnRzWOp",
        "colab": {
          "base_uri": "https://localhost:8080/",
          "height": 423,
          "referenced_widgets": [
            "2fb20f418e7a41e89c382c86c8d9e173",
            "43ef8d77a49a4e5aaa1fb98929c9dada",
            "53186239922d4eb187978d3f7de3e86b",
            "eff99e7572fb44adae08777a6eac2aba",
            "4040144370ea4fed8e2b49304c08fbe2",
            "eab0652c817842fbab281a9308a520d4",
            "bc3ec66f36844ae5af118d6aae5870ec",
            "1ec47f7a55af4651a8166c61f7ce05c6",
            "f1a2bf0aa58f4eb08ff2eaf698615743",
            "0cb0d28b02524c4dbf1c25e39f8e40cd",
            "aa18f57a114a4ae2bbe3dbf009ef1a6e",
            "3ebaae877a294298a2402b5bdb2f12be",
            "dcba58ae93704c25938125ff0283519f",
            "a906f33badb348a6863e53d624e2e565",
            "301fde070653496992472d0e551573eb",
            "fac1b283515d4a51b5f4d8e238c29daa",
            "ab7ccd1a024a49e9b570df29eaffaf20",
            "cbbdd2744bae46e9b1003d5990903e89",
            "ab9ee9b80bf74a7a9347720f4866c9e4",
            "ea1a0b04b3874f1cb45b9bbe8996bd32",
            "962e26204a054ec99facfebda5a13fc6",
            "b90576823f8a405b95d40d303ab5a566",
            "7f92ccdac87542e3b0d77ff91c7fd3c7",
            "37f2ab2d80e046069a59e37517b321f5",
            "62a2807c26fa4451bb6d00e49337bc1f",
            "b09909dfc3b4418fa868667ae2ffd74a",
            "d1c516a951114d359182ea742bfde268",
            "3cc69abc42fa47d285e0a986c06a4b1a",
            "fdb1ceb453dc4b6a8eab511db4ec585c",
            "65b5a75059744d378ff201f2acbb168f",
            "ec091fdf0155476a931a77a3a9cdf642",
            "24c57230488f4358b18b3b7832ad9733",
            "f7de891a78614915ab3795ea1eae2698",
            "ae302e4dbb7347e5b7002cd6ba960baa",
            "2e55a3f087cc4b36b5bc7db1bd77cd9f",
            "79316fe297364ff7a81dee4406b3f0db",
            "88644ac6afe340eabc322173f82bfdaa",
            "332ee6dae6494d9d99904a35672a390e",
            "139bd08a62304305affa24804e8695d8",
            "66a7c68a163144d5accb9f25f5878b40",
            "f8978d7e056e4840a5146077527458c4",
            "28d4c669441a4a2f834a4cf5ab0b0f30",
            "34a87114fe6943dba914a4f6eb171331",
            "beb337cf24b448e9b848d4c297200ece"
          ]
        },
        "outputId": "4abf65df-2cbd-4c1f-be21-741c496e5d70"
      },
      "execution_count": 5,
      "outputs": [
        {
          "output_type": "stream",
          "name": "stdout",
          "text": [
            "Downloading http://yann.lecun.com/exdb/mnist/train-images-idx3-ubyte.gz\n",
            "Downloading http://yann.lecun.com/exdb/mnist/train-images-idx3-ubyte.gz to ./data/MNIST/raw/train-images-idx3-ubyte.gz\n"
          ]
        },
        {
          "output_type": "display_data",
          "data": {
            "text/plain": [
              "  0%|          | 0/9912422 [00:00<?, ?it/s]"
            ],
            "application/vnd.jupyter.widget-view+json": {
              "version_major": 2,
              "version_minor": 0,
              "model_id": "2fb20f418e7a41e89c382c86c8d9e173"
            }
          },
          "metadata": {}
        },
        {
          "output_type": "stream",
          "name": "stdout",
          "text": [
            "Extracting ./data/MNIST/raw/train-images-idx3-ubyte.gz to ./data/MNIST/raw\n",
            "\n",
            "Downloading http://yann.lecun.com/exdb/mnist/train-labels-idx1-ubyte.gz\n",
            "Downloading http://yann.lecun.com/exdb/mnist/train-labels-idx1-ubyte.gz to ./data/MNIST/raw/train-labels-idx1-ubyte.gz\n"
          ]
        },
        {
          "output_type": "display_data",
          "data": {
            "text/plain": [
              "  0%|          | 0/28881 [00:00<?, ?it/s]"
            ],
            "application/vnd.jupyter.widget-view+json": {
              "version_major": 2,
              "version_minor": 0,
              "model_id": "3ebaae877a294298a2402b5bdb2f12be"
            }
          },
          "metadata": {}
        },
        {
          "output_type": "stream",
          "name": "stdout",
          "text": [
            "Extracting ./data/MNIST/raw/train-labels-idx1-ubyte.gz to ./data/MNIST/raw\n",
            "\n",
            "Downloading http://yann.lecun.com/exdb/mnist/t10k-images-idx3-ubyte.gz\n",
            "Downloading http://yann.lecun.com/exdb/mnist/t10k-images-idx3-ubyte.gz to ./data/MNIST/raw/t10k-images-idx3-ubyte.gz\n"
          ]
        },
        {
          "output_type": "display_data",
          "data": {
            "text/plain": [
              "  0%|          | 0/1648877 [00:00<?, ?it/s]"
            ],
            "application/vnd.jupyter.widget-view+json": {
              "version_major": 2,
              "version_minor": 0,
              "model_id": "7f92ccdac87542e3b0d77ff91c7fd3c7"
            }
          },
          "metadata": {}
        },
        {
          "output_type": "stream",
          "name": "stdout",
          "text": [
            "Extracting ./data/MNIST/raw/t10k-images-idx3-ubyte.gz to ./data/MNIST/raw\n",
            "\n",
            "Downloading http://yann.lecun.com/exdb/mnist/t10k-labels-idx1-ubyte.gz\n",
            "Downloading http://yann.lecun.com/exdb/mnist/t10k-labels-idx1-ubyte.gz to ./data/MNIST/raw/t10k-labels-idx1-ubyte.gz\n"
          ]
        },
        {
          "output_type": "display_data",
          "data": {
            "text/plain": [
              "  0%|          | 0/4542 [00:00<?, ?it/s]"
            ],
            "application/vnd.jupyter.widget-view+json": {
              "version_major": 2,
              "version_minor": 0,
              "model_id": "ae302e4dbb7347e5b7002cd6ba960baa"
            }
          },
          "metadata": {}
        },
        {
          "output_type": "stream",
          "name": "stdout",
          "text": [
            "Extracting ./data/MNIST/raw/t10k-labels-idx1-ubyte.gz to ./data/MNIST/raw\n",
            "\n"
          ]
        }
      ]
    },
    {
      "cell_type": "markdown",
      "source": [
        "# MNISTデータベースの画像の確認（その１）\n",
        "データベースから画像を１枚選択し、matplotlibモジュールを用いてグレースケールで表示する。\n",
        "1. 画像と、画像に対する正解ラベルの組を取得し、画像のサイズと正解ラベルを表示する。\n",
        "2. 画像のみをグレースケールで表示する（オプションの cmap を gray に設定）。その他のオプションは以下を参照のこと。  \n",
        "\n",
        "**Reference**  \n",
        "Choosing Colormaps in Matplotlib  \n",
        "URL: https://matplotlib.org/stable/tutorials/colors/colormaps.html\n"
      ],
      "metadata": {
        "id": "SlNPriSf74QT"
      }
    },
    {
      "cell_type": "code",
      "source": [
        "# 1枚取り出す（画像と、ラベル(0,1,...,9のいずれか）のセット）\n",
        "img, lbl = dataset[0]\n",
        "print(\"Image size is\", img.size(), \"Label is\", lbl)\n",
        "\n",
        "# 表示領域を生成\n",
        "fig = plt.figure()\n",
        "# [1,28,28]なので[28,28]の画像として表示\n",
        "plt.imshow(img[0,:,:], cmap=\"gray\") # グレースケールで表示"
      ],
      "metadata": {
        "colab": {
          "base_uri": "https://localhost:8080/",
          "height": 300
        },
        "id": "R9wVy4GSO7LJ",
        "outputId": "5acd027f-c902-4121-99bd-aebce74fb5d7"
      },
      "execution_count": 6,
      "outputs": [
        {
          "output_type": "stream",
          "name": "stdout",
          "text": [
            "Image size is torch.Size([1, 28, 28]) Label is 5\n"
          ]
        },
        {
          "output_type": "execute_result",
          "data": {
            "text/plain": [
              "<matplotlib.image.AxesImage at 0x7f8cc3cb9c90>"
            ]
          },
          "metadata": {},
          "execution_count": 6
        },
        {
          "output_type": "display_data",
          "data": {
            "text/plain": [
              "<Figure size 432x288 with 1 Axes>"
            ],
            "image/png": "[encoded data removed]"
          },
          "metadata": {
            "needs_background": "light"
          }
        }
      ]
    },
    {
      "cell_type": "markdown",
      "source": [
        "# MNISTデータベースの画像の確認（その２）\n",
        "データベースから画像を複数枚選択し、matplotlibモジュールを用いてグレースケールで表示する（ここでは１０枚を表示）。"
      ],
      "metadata": {
        "id": "MI7-tM448Xtr"
      }
    },
    {
      "cell_type": "code",
      "source": [
        "# 画像を複数枚表示\n",
        "fig = plt.figure(figsize=(10,4))\n",
        "# 反復構造で画像を順に並べて表示\n",
        "for i in range(10):\n",
        "    ax = fig.add_subplot(2,5,i+1)\n",
        "    ax.imshow(dataset[i][0][0,:,:], cmap=\"gray\") # グレースケールで表示"
      ],
      "metadata": {
        "colab": {
          "base_uri": "https://localhost:8080/",
          "height": 265
        },
        "id": "TX0bYg9Ua7h4",
        "outputId": "84257588-b714-44ab-afb1-01fd11b60dde"
      },
      "execution_count": 7,
      "outputs": [
        {
          "output_type": "display_data",
          "data": {
            "text/plain": [
              "<Figure size 720x288 with 10 Axes>"
            ],
            "image/png": "[encoded data removed]"
          },
          "metadata": {
            "needs_background": "light"
          }
        }
      ]
    },
    {
      "cell_type": "markdown",
      "source": [
        "# モデルアーキテクチャと再構成ロスの定義と生成\n",
        "隠れ層に1層の全結合層を持つシンプルなアーキテクチャ。  \n",
        "**Linear**  全結合層    \n",
        "URL: https://pytorch.org/docs/stable/generated/torch.nn.Linear.html  \n",
        "*in_features* – サンプル単位の入力サイズ。ここでは28x28の画像が入力されるので 28x28=784 となる。  \n",
        "*out_features* - サンプル単位の出力サイズ。ここでは変数 *d* によって指定される。  \n",
        "**Tanh** 活性化関数（Hyperbolic Tangent (Tanh) function）  \n",
        "URL: URL: https://pytorch.org/docs/stable/generated/torch.nn.Linear.html\n",
        "  \n",
        "\n",
        "\n"
      ],
      "metadata": {
        "id": "RGGxxHjH_RUk"
      }
    },
    {
      "cell_type": "code",
      "source": [
        "# n = 28 x 28 = 784\n",
        "d = 30  # for standard AE (under-complete hidden layer)\n",
        "# d = 500  # for denoising AE (over-complete hidden layer)\n",
        "\n",
        "# オートエンコーダのクラス定義\n",
        "class Autoencoder(nn.Module):\n",
        "    # インスタンス生成時の初期化処理。\n",
        "    def __init__(self):\n",
        "        super().__init__()\n",
        "        self.encoder = nn.Sequential(\n",
        "            nn.Linear(28 * 28, d),\n",
        "            nn.Tanh(),\n",
        "        )\n",
        "        self.decoder = nn.Sequential(\n",
        "            nn.Linear(d, 28 * 28),\n",
        "            nn.Tanh(),\n",
        "        )\n",
        "\n",
        "    def forward(self, x):\n",
        "        x = self.encoder(x)\n",
        "        x = self.decoder(x)\n",
        "        return x\n",
        "    \n",
        "# モデルの生成\n",
        "model = Autoencoder().to(device)\n",
        "# 損失の生成\n",
        "criterion = nn.MSELoss()"
      ],
      "metadata": {
        "id": "K0iP-w3izacZ"
      },
      "execution_count": 8,
      "outputs": []
    },
    {
      "cell_type": "markdown",
      "source": [
        "# 関数定義：処理結果を表示可能画像へ変換\n",
        "**Funcion Name**: to_img()  \n",
        "**Argument**: x - 推定結果   \n",
        "活性化関数 Tanh() の出力 [-1.0, 1.0] を [0.0, 1.0] に変換する。"
      ],
      "metadata": {
        "id": "tUl3mRCcAXK9"
      }
    },
    {
      "cell_type": "code",
      "source": [
        "# Convert vector to image\n",
        "\n",
        "def to_img(x):\n",
        "    x = 0.5 * (x + 1)\n",
        "    x = x.view(x.size(0), 28, 28) # view関数を使って28×28の画像を生成。\n",
        "    return x"
      ],
      "metadata": {
        "id": "wxD2e5g7zP_j"
      },
      "execution_count": 9,
      "outputs": []
    },
    {
      "cell_type": "markdown",
      "source": [
        "# 関数定義：画像をタイル状に表示\n",
        "**Funcion Name**: display_images()  \n",
        "**Argument**:  \n",
        "in_ : 入力画像配列(例えばAEの入力画像用)  \n",
        "out : 入力画像配列(例えばAEの出力画像用)  \n",
        "n : 表示する画像は 4*n。与えられない場合は 1 となる。  "
      ],
      "metadata": {
        "id": "p2kvZh1OAhGM"
      }
    },
    {
      "cell_type": "code",
      "source": [
        "# Displaying routine\n",
        "\n",
        "def display_images(in_, out, n=1):\n",
        "    for N in range(n):\n",
        "        # 入力画像 in_ は与えられた場合のみ表示する。\n",
        "        if in_ is not None:\n",
        "            in_pic = to_img(in_.cpu().data) # ベクトルデータをCPU用に取り出して画像化。\n",
        "            plt.figure(figsize=(18, 6)) # 横18×縦6インチの画像領域を生成。\n",
        "            # 入力画像 in_ の0,1,2,3番目の画像を繰り返し表示。\n",
        "            for i in range(4):\n",
        "                plt.subplot(1,4,i+1)\n",
        "                plt.imshow(in_pic[i+4*N]) # カラー表示。\n",
        "                plt.axis('off') # 軸表示なし\n",
        "                \n",
        "        # 入力画像 out はいつも表示する。\n",
        "        out_pic = to_img(out.cpu().data) # ベクトルデータをCPU用に取り出して画像化\n",
        "        plt.figure(figsize=(18, 6))\n",
        "        # 入力画像 out の0,1,2,3番目の画像を繰り返し表示 。\n",
        "        for i in range(4):\n",
        "            plt.subplot(1,4,i+1)\n",
        "            plt.imshow(out_pic[i+4*N]) # カラー表示。\n",
        "            plt.axis('off')"
      ],
      "metadata": {
        "id": "Lpa8TXLozUi6"
      },
      "execution_count": 10,
      "outputs": []
    },
    {
      "cell_type": "markdown",
      "source": [
        "# 学習率および最適化手法の設定\n",
        "**Adam** Adaptive Moment Estimation   \n",
        "URL: https://pytorch.org/docs/stable/generated/torch.optim.Adam.html  "
      ],
      "metadata": {
        "id": "eVRl9WfBDcCd"
      }
    },
    {
      "cell_type": "code",
      "source": [
        "# Configure the optimiser\n",
        "\n",
        "learning_rate = 1e-3\n",
        "\n",
        "optimizer = torch.optim.Adam(\n",
        "    model.parameters(),\n",
        "    lr=learning_rate,\n",
        ")"
      ],
      "metadata": {
        "id": "J8ZhhdbXzcWa"
      },
      "execution_count": 11,
      "outputs": []
    },
    {
      "cell_type": "markdown",
      "source": [
        "# 学習および学習過程の表示\n",
        "学習の反復回数は num_epochs に設定する。  \n",
        "**zero_grad** 最適化対象のすべてのテンソルの勾配を0で初期化する。  \n",
        "URL: https://pytorch.org/docs/stable/generated/torch.optim.Optimizer.zero_grad.html  "
      ],
      "metadata": {
        "id": "8_zTQkqbEkQd"
      }
    },
    {
      "cell_type": "code",
      "source": [
        "# Train standard or denoising autoencoder (AE)\n",
        "\n",
        "num_epochs = 5\n",
        "# do = nn.Dropout()  # comment out for standard AE\n",
        "for epoch in range(num_epochs):\n",
        "    for data in dataloader:\n",
        "        img, _ = data\n",
        "        img = img.to(device)\n",
        "        img = img.view(img.size(0), -1)\n",
        "        # noise = do(torch.ones(img.shape)).to(device)\n",
        "        # img_bad = (img * noise).to(device)  # comment out for standard AE\n",
        "        # ===================forward=====================\n",
        "        output = model(img)  # feed <img> (for std AE) or <img_bad> (for denoising AE)\n",
        "        loss = criterion(output, img.data)\n",
        "        # ===================backward====================\n",
        "        optimizer.zero_grad()\n",
        "        loss.backward()\n",
        "        optimizer.step()\n",
        "    # ===================log========================\n",
        "    print(f'epoch [{epoch + 1}/{num_epochs}], loss:{loss.item():.4f}')"
      ],
      "metadata": {
        "colab": {
          "base_uri": "https://localhost:8080/"
        },
        "id": "OTyJzctDzfk6",
        "outputId": "ab90d45d-782f-4bb6-e1db-46f151340d47"
      },
      "execution_count": 15,
      "outputs": [
        {
          "output_type": "stream",
          "name": "stdout",
          "text": [
            "epoch [1/5], loss:0.0736\n",
            "epoch [2/5], loss:0.0661\n",
            "epoch [3/5], loss:0.0680\n",
            "epoch [4/5], loss:0.0646\n",
            "epoch [5/5], loss:0.0567\n"
          ]
        }
      ]
    },
    {
      "cell_type": "markdown",
      "source": [
        "# 学習結果の表示"
      ],
      "metadata": {
        "id": "AoAIBrTbFCU1"
      }
    },
    {
      "cell_type": "code",
      "source": [
        "display_images(img, output)  # pass (None, output) for std AE, (img_bad, output) for denoising AE"
      ],
      "metadata": {
        "colab": {
          "base_uri": "https://localhost:8080/",
          "height": 481
        },
        "id": "q6-0ASGsEwWc",
        "outputId": "b82db4cb-9bca-4fb3-c3eb-193c8901d23d"
      },
      "execution_count": 16,
      "outputs": [
        {
          "output_type": "display_data",
          "data": {
            "text/plain": [
              "<Figure size 1296x432 with 4 Axes>"
            ],
            "image/png": "[encoded data removed]"
          },
          "metadata": {
            "needs_background": "light"
          }
        },
        {
          "output_type": "display_data",
          "data": {
            "text/plain": [
              "<Figure size 1296x432 with 4 Axes>"
            ],
            "image/png": "[encoded data removed]"
          },
          "metadata": {
            "needs_background": "light"
          }
        }
      ]
    },
    {
      "cell_type": "markdown",
      "source": [
        "# AEにおける重みの一部を表示"
      ],
      "metadata": {
        "id": "6ATiRiqHFIF9"
      }
    },
    {
      "cell_type": "code",
      "source": [
        "# Visualise a few kernels of the encoder\n",
        "\n",
        "display_images(None, model.encoder[0].weight, 5)"
      ],
      "metadata": {
        "colab": {
          "base_uri": "https://localhost:8080/",
          "height": 1000
        },
        "id": "EgqIVGXY0PWy",
        "outputId": "958b3400-a693-4d73-c82c-4fd043b8acf2"
      },
      "execution_count": 14,
      "outputs": [
        {
          "output_type": "display_data",
          "data": {
            "text/plain": [
              "<Figure size 1296x432 with 4 Axes>"
            ],
            "image/png": "[encoded data removed]"
          },
          "metadata": {
            "needs_background": "light"
          }
        },
        {
          "output_type": "display_data",
          "data": {
            "text/plain": [
              "<Figure size 1296x432 with 4 Axes>"
            ],
            "image/png": "[encoded data removed]"
          },
          "metadata": {
            "needs_background": "light"
          }
        },
        {
          "output_type": "display_data",
          "data": {
            "text/plain": [
              "<Figure size 1296x432 with 4 Axes>"
            ],
            "image/png": "[encoded data removed]"
          },
          "metadata": {
            "needs_background": "light"
          }
        },
        {
          "output_type": "display_data",
          "data": {
            "text/plain": [
              "<Figure size 1296x432 with 4 Axes>"
            ],
            "image/png": "[encoded data removed]"
          },
          "metadata": {
            "needs_background": "light"
          }
        },
        {
          "output_type": "display_data",
          "data": {
            "text/plain": [
              "<Figure size 1296x432 with 4 Axes>"
            ],
            "image/png": "[encoded data removed]"
          },
          "metadata": {
            "needs_background": "light"
          }
        }
      ]
    }
  ]
}